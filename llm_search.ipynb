{
 "cells": [
  {
   "cell_type": "code",
   "execution_count": 1,
   "id": "578dfd66",
   "metadata": {},
   "outputs": [
    {
     "name": "stderr",
     "output_type": "stream",
     "text": [
      "d:\\Projects\\nlp_query\\.venv\\Lib\\site-packages\\tqdm\\auto.py:21: TqdmWarning: IProgress not found. Please update jupyter and ipywidgets. See https://ipywidgets.readthedocs.io/en/stable/user_install.html\n",
      "  from .autonotebook import tqdm as notebook_tqdm\n"
     ]
    }
   ],
   "source": [
    "import pandas as pd\n",
    "import gradio as gr\n",
    "import torch\n",
    "import accelerate\n",
    "from transformers import AutoTokenizer, AutoModelForCausalLM\n",
    "from mistralai import Mistral"
   ]
  },
  {
   "cell_type": "code",
   "execution_count": 2,
   "id": "11031bec",
   "metadata": {},
   "outputs": [],
   "source": [
    "client = Mistral(api_key=\"DNN3lk0n8cBucYBe0s38s6gCIw4X6zmP\")"
   ]
  },
  {
   "cell_type": "code",
   "execution_count": 3,
   "id": "49dc126f",
   "metadata": {},
   "outputs": [],
   "source": [
    "df = pd.DataFrame([\n",
    "    {\"company\": \"X\", \"amount\": 1200, \"date\": \"2023-05-10\", \"details\": \"Contract for marketing\"},\n",
    "    {\"company\": \"Y\", \"amount\": 500, \"date\": \"2022-11-20\", \"details\": \"Contract for supply\"},\n",
    "    {\"company\": \"X\", \"amount\": 800, \"date\": \"2023-01-15\", \"details\": \"Contract for consulting\"},\n",
    "    {\"company\": \"Z\", \"amount\": 2500, \"date\": \"2023-06-01\", \"details\": \"IT infrastructure project\"},\n",
    "    {\"company\": \"A\", \"amount\": 1500, \"date\": \"2021-12-30\", \"details\": \"Office renovation contract\"},\n",
    "    {\"company\": \"B\", \"amount\": 3000, \"date\": \"2023-03-22\", \"details\": \"Marketing campaign\"},\n",
    "    {\"company\": \"C\", \"amount\": 750, \"date\": \"2022-08-10\", \"details\": \"Supply of furniture\"},\n",
    "    {\"company\": \"X\", \"amount\": 2000, \"date\": \"2023-07-15\", \"details\": \"Consulting project\"},\n",
    "    {\"company\": \"Y\", \"amount\": 1800, \"date\": \"2023-01-05\", \"details\": \"Software license\"},\n",
    "    {\"company\": \"Z\", \"amount\": 400, \"date\": \"2022-05-17\", \"details\": \"Maintenance contract\"},\n",
    "    {\"company\": \"A\", \"amount\": 2200, \"date\": \"2023-04-10\", \"details\": \"Training program\"},\n",
    "    {\"company\": \"B\", \"amount\": 950, \"date\": \"2021-11-01\", \"details\": \"Marketing research\"},\n",
    "    {\"company\": \"C\", \"amount\": 1300, \"date\": \"2023-02-25\", \"details\": \"Office furniture supply\"},\n",
    "    {\"company\": \"X\", \"amount\": 5000, \"date\": \"2023-08-01\", \"details\": \"Major consulting project\"},\n",
    "    {\"company\": \"Y\", \"amount\": 1250, \"date\": \"2022-09-30\", \"details\": \"Software maintenance\"},\n",
    "])\n"
   ]
  },
  {
   "cell_type": "code",
   "execution_count": null,
   "id": "92a20395",
   "metadata": {},
   "outputs": [],
   "source": [
    "# from transformers import AutoTokenizer, AutoModelForCausalLM, AutoModelForSeq2SeqLM\n",
    "\n",
    "# model_path = \"./bloomz-1b1-local\"\n",
    "\n",
    "# tokenizer = AutoTokenizer.from_pretrained(\"google/flan-t5-base\")\n",
    "# model = AutoModelForSeq2SeqLM.from_pretrained(\"google/flan-t5-base\")\n",
    "# device = torch.device(\"cpu\")\n",
    "\n"
   ]
  },
  {
   "cell_type": "code",
   "execution_count": null,
   "id": "58c98f43",
   "metadata": {},
   "outputs": [],
   "source": [
    "# save_path = \"./flan-t5-local\"\n",
    "# tokenizer.save_pretrained(save_path)\n",
    "# model.save_pretrained(save_path)"
   ]
  },
  {
   "cell_type": "code",
   "execution_count": 6,
   "id": "33eaebc1",
   "metadata": {},
   "outputs": [],
   "source": [
    "import re, json\n",
    "def clean_json_string(s: str) -> str:\n",
    "    s = s.strip()\n",
    "\n",
    "    if not s.startswith(\"{\") and \"company\" in s:\n",
    "        s = \"{\" + s\n",
    "    if not s.endswith(\"}\"):\n",
    "        s = s + \"}\"\n",
    "\n",
    "    s = re.sub(r\",\\s*}\", \"}\", s)\n",
    "    s = re.sub(r\"\\\"\\s*}\", \"}\", s)\n",
    "    return s\n"
   ]
  },
  {
   "cell_type": "code",
   "execution_count": null,
   "id": "8e66d237",
   "metadata": {},
   "outputs": [],
   "source": [
    "import json\n",
    "from mistralai import Mistral\n",
    "\n",
    "USE_MISTRAL = True \n",
    "\n",
    "if USE_MISTRAL:\n",
    "    client = Mistral(api_key=\"token\")\n",
    "\n",
    "\n",
    "def query_to_filters(query: str, max_new_tokens: int = 150):\n",
    "    \"\"\"\n",
    "    Convert English or Arabic query about contracts into a structured filter dict:\n",
    "    { company, amount_min, amount_max, year_min, year_max, keywords }\n",
    "    \"\"\"\n",
    "\n",
    "    prompt = f\"\"\"\n",
    "Convert this query about contracts into a JSON object with keys:\n",
    "company, amount_min, amount_max, year_min, year_max, keywords.\n",
    "Use null if not specified. Respond ONLY with valid JSON.\n",
    "- The 'keywords' field should always be in English (the language of the CSV), \n",
    "even if the input query is in Arabic.\n",
    "\n",
    "English examples:\n",
    "\"Company X contracts\" => {{\"company\":\"X\",\"amount_min\":null,\"amount_max\":null,\"year_min\":null,\"year_max\":null, \"keywords\":\"\"}}\n",
    "\"Contracts about office renovation\" => {{\"company\":null,\"amount_min\":null,\"amount_max\":null,\"year_min\":null,\"year_max\":null, \"keywords\":\"office renovation\"}}\n",
    "\n",
    "Arabic examples:\n",
    "\"عقود من الشركة X\" => {{\"company\":\"X\",\"amount_min\":null,\"amount_max\":null,\"year_min\":null,\"year_max\":null, \"keywords\":\"\"}}\n",
    "\"عقود عن تجديد المكتب\" => {{\"company\":null,\"amount_min\":null,\"amount_max\":null,\"year_min\":null,\"year_max\":null, \"keywords\":\"office renovation\"}}\n",
    "\n",
    "Query: \"{query}\"\n",
    "JSON:\n",
    "\"\"\"\n",
    "\n",
    "    if USE_MISTRAL:\n",
    "        response = client.chat.complete(\n",
    "            model=\"mistral-small-latest\",  \n",
    "            messages=[{\"role\": \"user\", \"content\": prompt}],\n",
    "            temperature=0,\n",
    "        )\n",
    "        raw_output = response.choices[0].message.content\n",
    "\n",
    "    try:\n",
    "        start = raw_output.find(\"{\")\n",
    "        end = raw_output.rfind(\"}\") + 1\n",
    "        json_str = raw_output[start:end]\n",
    "        filters = json.loads(json_str)\n",
    "        \n",
    "        for key in [\"company\", \"amount_min\", \"amount_max\", \"year_min\", \"year_max\", \"keywords\"]:\n",
    "            if key not in filters:\n",
    "                filters[key] = None\n",
    "\n",
    "    except Exception as e:\n",
    "        print(\"!!! Fallback triggered: returning empty filters\")\n",
    "        print(\"Raw model response:\", raw_output)\n",
    "        filters = {\n",
    "            \"company\": None,\n",
    "            \"amount_min\": None,\n",
    "            \"amount_max\": None,\n",
    "            \"year_min\": None,\n",
    "            \"year_max\": None,\n",
    "            \"keywords\": None,\n",
    "        }\n",
    "\n",
    "    return filters\n"
   ]
  },
  {
   "cell_type": "code",
   "execution_count": 8,
   "id": "3184def3",
   "metadata": {},
   "outputs": [],
   "source": [
    "import arabic_reshaper\n",
    "from bidi.algorithm import get_display\n",
    "import re\n",
    "\n",
    "def normalize_arabic(text):\n",
    "    if not isinstance(text, str):\n",
    "        return \"\"\n",
    "    text = text.replace(\"أ\", \"ا\").replace(\"إ\", \"ا\").replace(\"آ\", \"ا\").replace(\"ى\", \"ي\").strip()\n",
    "    reshaped_text = arabic_reshaper.reshape(text)\n",
    "    bidi_text = get_display(reshaped_text)\n",
    "    return bidi_text\n"
   ]
  },
  {
   "cell_type": "code",
   "execution_count": 9,
   "id": "6079ed89",
   "metadata": {},
   "outputs": [],
   "source": [
    "def search_csv(query):\n",
    "    filters = query_to_filters(query)\n",
    "    print(\"Structured query:\", filters)\n",
    "\n",
    "    results = df.copy()\n",
    "\n",
    "    if filters.get(\"company\"):\n",
    "        results = results[results[\"company\"] == filters[\"company\"]]\n",
    "    if filters.get(\"amount_min\"):\n",
    "        results = results[results[\"amount\"] >= filters[\"amount_min\"]]\n",
    "    if filters.get(\"amount_max\"):\n",
    "        results = results[results[\"amount\"] <= filters[\"amount_max\"]]\n",
    "    if filters.get(\"year_min\"):\n",
    "        results = results[pd.to_datetime(results[\"date\"]).dt.year >= filters[\"year_min\"]]\n",
    "    if filters.get(\"year_max\"):\n",
    "        results = results[pd.to_datetime(results[\"date\"]).dt.year <= filters[\"year_max\"]]\n",
    "\n",
    "    if filters.get(\"keywords\"):\n",
    "        keywords = filters[\"keywords\"].strip()\n",
    "        if keywords:\n",
    "            pattern_normalized = normalize_arabic(keywords)\n",
    "            results[\"details_normalized\"] = results[\"details\"].apply(normalize_arabic)\n",
    "            results = results[results[\"details_normalized\"].str.contains(pattern_normalized, case=False, regex=True)]\n",
    "\n",
    "    return results\n"
   ]
  },
  {
   "cell_type": "code",
   "execution_count": null,
   "id": "42dc5b17",
   "metadata": {},
   "outputs": [
    {
     "name": "stdout",
     "output_type": "stream",
     "text": [
      "* Running on local URL:  http://127.0.0.1:7860\n",
      "* To create a public link, set `share=True` in `launch()`.\n"
     ]
    },
    {
     "data": {
      "text/html": [
       "<div><iframe src=\"http://127.0.0.1:7860/\" width=\"100%\" height=\"500\" allow=\"autoplay; camera; microphone; clipboard-read; clipboard-write;\" frameborder=\"0\" allowfullscreen></iframe></div>"
      ],
      "text/plain": [
       "<IPython.core.display.HTML object>"
      ]
     },
     "metadata": {},
     "output_type": "display_data"
    },
    {
     "data": {
      "text/plain": []
     },
     "execution_count": 10,
     "metadata": {},
     "output_type": "execute_result"
    },
    {
     "name": "stdout",
     "output_type": "stream",
     "text": [
      "Structured query: {'company': None, 'amount_min': None, 'amount_max': None, 'year_min': None, 'year_max': None, 'keywords': 'marketing'}\n",
      "Structured query: {'company': None, 'amount_min': None, 'amount_max': None, 'year_min': None, 'year_max': None, 'keywords': ''}\n"
     ]
    }
   ],
   "source": [
    "iface = gr.Interface(\n",
    "    fn=search_csv,\n",
    "    inputs=gr.Textbox(label=\"Enter your Arabic query\"),\n",
    "    outputs=gr.Dataframe(label=\"Results\"),\n",
    "    title=\"Arabic Contract Search\",\n",
    "    description=\"Type any Arabic query about contracts. The model will understand and filter the CSV.\"\n",
    ")\n",
    "\n",
    "iface.launch()"
   ]
  }
 ],
 "metadata": {
  "kernelspec": {
   "display_name": ".venv (3.11.5)",
   "language": "python",
   "name": "python3"
  },
  "language_info": {
   "codemirror_mode": {
    "name": "ipython",
    "version": 3
   },
   "file_extension": ".py",
   "mimetype": "text/x-python",
   "name": "python",
   "nbconvert_exporter": "python",
   "pygments_lexer": "ipython3",
   "version": "3.11.5"
  }
 },
 "nbformat": 4,
 "nbformat_minor": 5
}
