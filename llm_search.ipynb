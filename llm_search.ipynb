{
 "cells": [
  {
   "cell_type": "code",
   "execution_count": 21,
   "id": "578dfd66",
   "metadata": {},
   "outputs": [],
   "source": [
    "import pandas as pd\n",
    "import gradio as gr\n",
    "import torch\n",
    "import accelerate\n",
    "from transformers import AutoTokenizer, AutoModelForCausalLM\n",
    "import os \n",
    "from mistralai import Mistral\n"
   ]
  },
  {
   "cell_type": "code",
   "execution_count": null,
   "id": "bedccbc6",
   "metadata": {},
   "outputs": [
    {
     "name": "stdout",
     "output_type": "stream",
     "text": [
      "Requirement already satisfied: pydantic<2.0 in c:\\users\\huda\\python\\lib\\site-packages (1.10.22)\n",
      "Requirement already satisfied: typing-extensions>=4.2.0 in c:\\users\\huda\\python\\lib\\site-packages (from pydantic<2.0) (4.14.1)\n"
     ]
    },
    {
     "name": "stderr",
     "output_type": "stream",
     "text": [
      "\n",
      "[notice] A new release of pip is available: 24.2 -> 25.2\n",
      "[notice] To update, run: python.exe -m pip install --upgrade pip\n"
     ]
    },
    {
     "name": "stdout",
     "output_type": "stream",
     "text": [
      "Collecting mistralai"
     ]
    },
    {
     "name": "stderr",
     "output_type": "stream",
     "text": [
      "\n",
      "[notice] A new release of pip is available: 24.2 -> 25.2\n",
      "[notice] To update, run: python.exe -m pip install --upgrade pip\n"
     ]
    },
    {
     "name": "stdout",
     "output_type": "stream",
     "text": [
      "\n",
      "  Using cached mistralai-1.9.6-py3-none-any.whl.metadata (37 kB)\n",
      "Collecting eval-type-backport>=0.2.0 (from mistralai)\n",
      "  Using cached eval_type_backport-0.2.2-py3-none-any.whl.metadata (2.2 kB)\n",
      "Collecting httpx>=0.28.1 (from mistralai)\n",
      "  Using cached httpx-0.28.1-py3-none-any.whl.metadata (7.1 kB)\n",
      "Collecting invoke<3.0.0,>=2.2.0 (from mistralai)\n",
      "  Using cached invoke-2.2.0-py3-none-any.whl.metadata (3.3 kB)\n",
      "Collecting pydantic>=2.10.3 (from mistralai)\n",
      "  Using cached pydantic-2.11.7-py3-none-any.whl.metadata (67 kB)\n",
      "Collecting python-dateutil>=2.8.2 (from mistralai)\n",
      "  Using cached python_dateutil-2.9.0.post0-py2.py3-none-any.whl.metadata (8.4 kB)\n",
      "Collecting pyyaml<7.0.0,>=6.0.2 (from mistralai)\n",
      "  Using cached PyYAML-6.0.2-cp311-cp311-win_amd64.whl.metadata (2.1 kB)\n",
      "Collecting typing-inspection>=0.4.0 (from mistralai)\n",
      "  Using cached typing_inspection-0.4.1-py3-none-any.whl.metadata (2.6 kB)\n",
      "Collecting anyio (from httpx>=0.28.1->mistralai)\n",
      "  Using cached anyio-4.10.0-py3-none-any.whl.metadata (4.0 kB)\n",
      "Collecting certifi (from httpx>=0.28.1->mistralai)\n",
      "  Using cached certifi-2025.8.3-py3-none-any.whl.metadata (2.4 kB)\n",
      "Collecting httpcore==1.* (from httpx>=0.28.1->mistralai)\n",
      "  Using cached httpcore-1.0.9-py3-none-any.whl.metadata (21 kB)\n",
      "Collecting idna (from httpx>=0.28.1->mistralai)\n",
      "  Using cached idna-3.10-py3-none-any.whl.metadata (10 kB)\n",
      "Collecting h11>=0.16 (from httpcore==1.*->httpx>=0.28.1->mistralai)\n",
      "  Using cached h11-0.16.0-py3-none-any.whl.metadata (8.3 kB)\n",
      "Collecting annotated-types>=0.6.0 (from pydantic>=2.10.3->mistralai)\n",
      "  Using cached annotated_types-0.7.0-py3-none-any.whl.metadata (15 kB)\n",
      "Collecting pydantic-core==2.33.2 (from pydantic>=2.10.3->mistralai)\n",
      "  Using cached pydantic_core-2.33.2-cp311-cp311-win_amd64.whl.metadata (6.9 kB)\n",
      "Collecting typing-extensions>=4.12.2 (from pydantic>=2.10.3->mistralai)\n",
      "  Using cached typing_extensions-4.14.1-py3-none-any.whl.metadata (3.0 kB)\n",
      "Collecting six>=1.5 (from python-dateutil>=2.8.2->mistralai)\n",
      "  Using cached six-1.17.0-py2.py3-none-any.whl.metadata (1.7 kB)\n",
      "Collecting sniffio>=1.1 (from anyio->httpx>=0.28.1->mistralai)\n",
      "  Using cached sniffio-1.3.1-py3-none-any.whl.metadata (3.9 kB)\n",
      "Using cached mistralai-1.9.6-py3-none-any.whl (425 kB)\n",
      "Using cached eval_type_backport-0.2.2-py3-none-any.whl (5.8 kB)\n",
      "Using cached httpx-0.28.1-py3-none-any.whl (73 kB)\n",
      "Using cached httpcore-1.0.9-py3-none-any.whl (78 kB)\n",
      "Using cached invoke-2.2.0-py3-none-any.whl (160 kB)\n",
      "Using cached pydantic-2.11.7-py3-none-any.whl (444 kB)\n",
      "Using cached pydantic_core-2.33.2-cp311-cp311-win_amd64.whl (2.0 MB)\n",
      "Using cached python_dateutil-2.9.0.post0-py2.py3-none-any.whl (229 kB)\n",
      "Using cached PyYAML-6.0.2-cp311-cp311-win_amd64.whl (161 kB)\n",
      "Using cached typing_inspection-0.4.1-py3-none-any.whl (14 kB)\n",
      "Using cached annotated_types-0.7.0-py3-none-any.whl (13 kB)\n",
      "Using cached six-1.17.0-py2.py3-none-any.whl (11 kB)\n",
      "Using cached typing_extensions-4.14.1-py3-none-any.whl (43 kB)\n",
      "Using cached anyio-4.10.0-py3-none-any.whl (107 kB)\n",
      "Using cached idna-3.10-py3-none-any.whl (70 kB)\n",
      "Using cached certifi-2025.8.3-py3-none-any.whl (161 kB)\n",
      "Using cached h11-0.16.0-py3-none-any.whl (37 kB)\n",
      "Using cached sniffio-1.3.1-py3-none-any.whl (10 kB)\n",
      "Installing collected packages: typing-extensions, sniffio, six, pyyaml, invoke, idna, h11, eval-type-backport, certifi, annotated-types, typing-inspection, python-dateutil, pydantic-core, httpcore, anyio, pydantic, httpx, mistralai\n",
      "  Attempting uninstall: typing-extensions\n",
      "    Found existing installation: typing_extensions 4.14.1\n",
      "    Uninstalling typing_extensions-4.14.1:\n",
      "      Successfully uninstalled typing_extensions-4.14.1\n",
      "  Attempting uninstall: sniffio\n",
      "    Found existing installation: sniffio 1.3.1\n",
      "    Uninstalling sniffio-1.3.1:\n",
      "      Successfully uninstalled sniffio-1.3.1\n",
      "  Attempting uninstall: six\n",
      "    Found existing installation: six 1.16.0\n",
      "    Uninstalling six-1.16.0:\n",
      "      Successfully uninstalled six-1.16.0\n",
      "  Attempting uninstall: pyyaml\n",
      "    Found existing installation: PyYAML 6.0.2\n",
      "    Uninstalling PyYAML-6.0.2:\n",
      "      Successfully uninstalled PyYAML-6.0.2\n",
      "  Attempting uninstall: invoke\n",
      "    Found existing installation: invoke 2.2.0\n",
      "    Uninstalling invoke-2.2.0:\n",
      "      Successfully uninstalled invoke-2.2.0\n",
      "  Attempting uninstall: idna\n",
      "    Found existing installation: idna 3.6\n",
      "    Uninstalling idna-3.6:\n",
      "      Successfully uninstalled idna-3.6\n",
      "  Attempting uninstall: h11\n",
      "    Found existing installation: h11 0.14.0\n",
      "    Uninstalling h11-0.14.0:\n",
      "      Successfully uninstalled h11-0.14.0\n",
      "  Attempting uninstall: eval-type-backport\n",
      "    Found existing installation: eval_type_backport 0.2.2\n",
      "    Uninstalling eval_type_backport-0.2.2:\n",
      "      Successfully uninstalled eval_type_backport-0.2.2\n",
      "  Attempting uninstall: certifi\n",
      "    Found existing installation: certifi 2024.2.2\n",
      "    Uninstalling certifi-2024.2.2:\n",
      "      Successfully uninstalled certifi-2024.2.2\n",
      "  Attempting uninstall: annotated-types\n",
      "    Found existing installation: annotated-types 0.6.0\n",
      "    Uninstalling annotated-types-0.6.0:\n",
      "      Successfully uninstalled annotated-types-0.6.0\n",
      "  Attempting uninstall: typing-inspection\n",
      "    Found existing installation: typing-inspection 0.4.1\n",
      "    Uninstalling typing-inspection-0.4.1:\n",
      "      Successfully uninstalled typing-inspection-0.4.1\n",
      "  Attempting uninstall: python-dateutil\n",
      "    Found existing installation: python-dateutil 2.9.0.post0\n",
      "    Uninstalling python-dateutil-2.9.0.post0:\n",
      "      Successfully uninstalled python-dateutil-2.9.0.post0\n",
      "  Attempting uninstall: pydantic-core\n",
      "    Found existing installation: pydantic_core 2.33.2\n",
      "    Uninstalling pydantic_core-2.33.2:\n",
      "      Successfully uninstalled pydantic_core-2.33.2\n",
      "  Attempting uninstall: httpcore\n",
      "    Found existing installation: httpcore 1.0.4\n",
      "    Uninstalling httpcore-1.0.4:\n",
      "      Successfully uninstalled httpcore-1.0.4\n",
      "  Attempting uninstall: anyio\n",
      "    Found existing installation: anyio 4.3.0\n",
      "    Uninstalling anyio-4.3.0:\n",
      "      Successfully uninstalled anyio-4.3.0\n",
      "  Attempting uninstall: pydantic\n",
      "    Found existing installation: pydantic 1.10.22\n",
      "    Uninstalling pydantic-1.10.22:\n",
      "      Successfully uninstalled pydantic-1.10.22\n",
      "  Attempting uninstall: httpx\n",
      "    Found existing installation: httpx 0.28.1\n",
      "    Uninstalling httpx-0.28.1:\n",
      "      Successfully uninstalled httpx-0.28.1\n",
      "  Attempting uninstall: mistralai\n",
      "    Found existing installation: mistralai 1.9.6\n",
      "    Uninstalling mistralai-1.9.6:\n",
      "      Successfully uninstalled mistralai-1.9.6\n",
      "Successfully installed annotated-types-0.7.0 anyio-4.10.0 certifi-2025.8.3 eval-type-backport-0.2.2 h11-0.16.0 httpcore-1.0.9 httpx-0.28.1 idna-3.10 invoke-2.2.0 mistralai-1.9.6 pydantic-2.11.7 pydantic-core-2.33.2 python-dateutil-2.9.0.post0 pyyaml-6.0.2 six-1.17.0 sniffio-1.3.1 typing-extensions-4.14.1 typing-inspection-0.4.1\n"
     ]
    }
   ],
   "source": [
    "!pip install \"pydantic<2.0\"\n",
    "\n"
   ]
  },
  {
   "cell_type": "code",
   "execution_count": 17,
   "id": "35f007af",
   "metadata": {},
   "outputs": [
    {
     "name": "stdout",
     "output_type": "stream",
     "text": [
      "Collecting mistralai\n",
      "  Using cached mistralai-1.9.6-py3-none-any.whl.metadata (37 kB)\n",
      "Collecting eval-type-backport>=0.2.0 (from mistralai)\n",
      "  Using cached eval_type_backport-0.2.2-py3-none-any.whl.metadata (2.2 kB)\n",
      "Collecting httpx>=0.28.1 (from mistralai)\n",
      "  Using cached httpx-0.28.1-py3-none-any.whl.metadata (7.1 kB)\n",
      "Collecting invoke<3.0.0,>=2.2.0 (from mistralai)\n",
      "  Using cached invoke-2.2.0-py3-none-any.whl.metadata (3.3 kB)\n",
      "Collecting pydantic>=2.10.3 (from mistralai)\n",
      "  Using cached pydantic-2.11.7-py3-none-any.whl.metadata (67 kB)\n",
      "Collecting python-dateutil>=2.8.2 (from mistralai)\n",
      "  Using cached python_dateutil-2.9.0.post0-py2.py3-none-any.whl.metadata (8.4 kB)\n",
      "Collecting pyyaml<7.0.0,>=6.0.2 (from mistralai)\n",
      "  Using cached PyYAML-6.0.2-cp311-cp311-win_amd64.whl.metadata (2.1 kB)\n",
      "Collecting typing-inspection>=0.4.0 (from mistralai)\n",
      "  Using cached typing_inspection-0.4.1-py3-none-any.whl.metadata (2.6 kB)\n",
      "Collecting anyio (from httpx>=0.28.1->mistralai)\n",
      "  Using cached anyio-4.10.0-py3-none-any.whl.metadata (4.0 kB)\n",
      "Collecting certifi (from httpx>=0.28.1->mistralai)\n",
      "  Using cached certifi-2025.8.3-py3-none-any.whl.metadata (2.4 kB)\n",
      "Collecting httpcore==1.* (from httpx>=0.28.1->mistralai)\n",
      "  Using cached httpcore-1.0.9-py3-none-any.whl.metadata (21 kB)\n",
      "Collecting idna (from httpx>=0.28.1->mistralai)\n",
      "  Using cached idna-3.10-py3-none-any.whl.metadata (10 kB)\n",
      "Collecting h11>=0.16 (from httpcore==1.*->httpx>=0.28.1->mistralai)\n",
      "  Using cached h11-0.16.0-py3-none-any.whl.metadata (8.3 kB)\n",
      "Collecting annotated-types>=0.6.0 (from pydantic>=2.10.3->mistralai)\n",
      "  Using cached annotated_types-0.7.0-py3-none-any.whl.metadata (15 kB)\n",
      "Collecting pydantic-core==2.33.2 (from pydantic>=2.10.3->mistralai)\n",
      "  Using cached pydantic_core-2.33.2-cp311-cp311-win_amd64.whl.metadata (6.9 kB)\n",
      "Collecting typing-extensions>=4.12.2 (from pydantic>=2.10.3->mistralai)\n",
      "  Using cached typing_extensions-4.14.1-py3-none-any.whl.metadata (3.0 kB)\n",
      "Collecting six>=1.5 (from python-dateutil>=2.8.2->mistralai)\n",
      "  Using cached six-1.17.0-py2.py3-none-any.whl.metadata (1.7 kB)\n",
      "Collecting sniffio>=1.1 (from anyio->httpx>=0.28.1->mistralai)\n",
      "  Using cached sniffio-1.3.1-py3-none-any.whl.metadata (3.9 kB)\n",
      "Using cached mistralai-1.9.6-py3-none-any.whl (425 kB)\n",
      "Using cached eval_type_backport-0.2.2-py3-none-any.whl (5.8 kB)\n",
      "Using cached httpx-0.28.1-py3-none-any.whl (73 kB)\n",
      "Using cached httpcore-1.0.9-py3-none-any.whl (78 kB)\n",
      "Using cached invoke-2.2.0-py3-none-any.whl (160 kB)\n",
      "Using cached pydantic-2.11.7-py3-none-any.whl (444 kB)\n",
      "Using cached pydantic_core-2.33.2-cp311-cp311-win_amd64.whl (2.0 MB)\n",
      "Using cached python_dateutil-2.9.0.post0-py2.py3-none-any.whl (229 kB)\n",
      "Using cached PyYAML-6.0.2-cp311-cp311-win_amd64.whl (161 kB)\n",
      "Using cached typing_inspection-0.4.1-py3-none-any.whl (14 kB)\n",
      "Using cached annotated_types-0.7.0-py3-none-any.whl (13 kB)\n",
      "Using cached six-1.17.0-py2.py3-none-any.whl (11 kB)\n",
      "Using cached typing_extensions-4.14.1-py3-none-any.whl (43 kB)\n",
      "Using cached anyio-4.10.0-py3-none-any.whl (107 kB)\n",
      "Using cached idna-3.10-py3-none-any.whl (70 kB)\n",
      "Using cached certifi-2025.8.3-py3-none-any.whl (161 kB)\n",
      "Using cached h11-0.16.0-py3-none-any.whl (37 kB)\n",
      "Using cached sniffio-1.3.1-py3-none-any.whl (10 kB)\n",
      "Installing collected packages: typing-extensions, sniffio, six, pyyaml, invoke, idna, h11, eval-type-backport, certifi, annotated-types, typing-inspection, python-dateutil, pydantic-core, httpcore, anyio, pydantic, httpx, mistralai\n",
      "  Attempting uninstall: typing-extensions\n",
      "    Found existing installation: typing_extensions 4.14.1\n",
      "    Uninstalling typing_extensions-4.14.1:\n",
      "      Successfully uninstalled typing_extensions-4.14.1\n",
      "  Attempting uninstall: sniffio\n",
      "    Found existing installation: sniffio 1.3.1\n",
      "    Uninstalling sniffio-1.3.1:\n",
      "      Successfully uninstalled sniffio-1.3.1\n",
      "  Attempting uninstall: six\n",
      "    Found existing installation: six 1.17.0\n",
      "    Uninstalling six-1.17.0:\n",
      "      Successfully uninstalled six-1.17.0\n",
      "  Attempting uninstall: pyyaml\n",
      "    Found existing installation: PyYAML 6.0.2\n",
      "    Uninstalling PyYAML-6.0.2:\n",
      "      Successfully uninstalled PyYAML-6.0.2\n",
      "  Attempting uninstall: invoke\n",
      "    Found existing installation: invoke 2.2.0\n",
      "    Uninstalling invoke-2.2.0:\n",
      "      Successfully uninstalled invoke-2.2.0\n",
      "  Attempting uninstall: idna\n",
      "    Found existing installation: idna 3.10\n",
      "    Uninstalling idna-3.10:\n",
      "      Successfully uninstalled idna-3.10\n",
      "  Attempting uninstall: h11\n",
      "    Found existing installation: h11 0.16.0\n",
      "    Uninstalling h11-0.16.0:\n",
      "      Successfully uninstalled h11-0.16.0\n",
      "  Attempting uninstall: eval-type-backport\n",
      "    Found existing installation: eval_type_backport 0.2.2\n",
      "    Uninstalling eval_type_backport-0.2.2:\n",
      "      Successfully uninstalled eval_type_backport-0.2.2\n",
      "  Attempting uninstall: certifi\n",
      "    Found existing installation: certifi 2025.8.3\n",
      "    Uninstalling certifi-2025.8.3:\n",
      "      Successfully uninstalled certifi-2025.8.3\n",
      "  Attempting uninstall: annotated-types\n",
      "    Found existing installation: annotated-types 0.7.0\n",
      "    Uninstalling annotated-types-0.7.0:\n",
      "      Successfully uninstalled annotated-types-0.7.0\n",
      "  Attempting uninstall: typing-inspection\n",
      "    Found existing installation: typing-inspection 0.4.1\n",
      "    Uninstalling typing-inspection-0.4.1:\n",
      "      Successfully uninstalled typing-inspection-0.4.1\n",
      "  Attempting uninstall: python-dateutil\n",
      "    Found existing installation: python-dateutil 2.9.0.post0\n",
      "    Uninstalling python-dateutil-2.9.0.post0:\n",
      "      Successfully uninstalled python-dateutil-2.9.0.post0\n",
      "  Attempting uninstall: pydantic-core\n",
      "    Found existing installation: pydantic_core 2.33.2\n",
      "    Uninstalling pydantic_core-2.33.2:\n",
      "      Successfully uninstalled pydantic_core-2.33.2\n",
      "  Attempting uninstall: httpcore\n",
      "    Found existing installation: httpcore 1.0.9\n",
      "    Uninstalling httpcore-1.0.9:\n",
      "      Successfully uninstalled httpcore-1.0.9\n",
      "  Attempting uninstall: anyio\n",
      "    Found existing installation: anyio 4.10.0\n",
      "    Uninstalling anyio-4.10.0:\n",
      "      Successfully uninstalled anyio-4.10.0\n",
      "  Attempting uninstall: pydantic\n",
      "    Found existing installation: pydantic 2.11.7\n",
      "    Uninstalling pydantic-2.11.7:\n",
      "      Successfully uninstalled pydantic-2.11.7\n",
      "  Attempting uninstall: httpx\n",
      "    Found existing installation: httpx 0.28.1\n",
      "    Uninstalling httpx-0.28.1:\n",
      "      Successfully uninstalled httpx-0.28.1\n",
      "  Attempting uninstall: mistralai\n",
      "    Found existing installation: mistralai 1.9.6\n",
      "    Uninstalling mistralai-1.9.6:\n",
      "      Successfully uninstalled mistralai-1.9.6\n",
      "Successfully installed annotated-types-0.7.0 anyio-4.10.0 certifi-2025.8.3 eval-type-backport-0.2.2 h11-0.16.0 httpcore-1.0.9 httpx-0.28.1 idna-3.10 invoke-2.2.0 mistralai-1.9.6 pydantic-2.11.7 pydantic-core-2.33.2 python-dateutil-2.9.0.post0 pyyaml-6.0.2 six-1.17.0 sniffio-1.3.1 typing-extensions-4.14.1 typing-inspection-0.4.1\n"
     ]
    },
    {
     "name": "stderr",
     "output_type": "stream",
     "text": [
      "\n",
      "[notice] A new release of pip is available: 24.2 -> 25.2\n",
      "[notice] To update, run: python.exe -m pip install --upgrade pip\n"
     ]
    }
   ],
   "source": [
    "!pip install --force-reinstall mistralai\n"
   ]
  },
  {
   "cell_type": "code",
   "execution_count": null,
   "id": "d56f614d",
   "metadata": {},
   "outputs": [
    {
     "name": "stdout",
     "output_type": "stream",
     "text": [
      "Collecting gradio\n",
      "  Using cached gradio-5.42.0-py3-none-any.whl.metadata (16 kB)\n",
      "Collecting aiofiles<25.0,>=22.0 (from gradio)\n",
      "  Using cached aiofiles-24.1.0-py3-none-any.whl.metadata (10 kB)\n",
      "Requirement already satisfied: anyio<5.0,>=3.0 in c:\\users\\huda\\python\\lib\\site-packages (from gradio) (4.3.0)\n",
      "Collecting brotli>=1.1.0 (from gradio)\n",
      "  Using cached Brotli-1.1.0-cp311-cp311-win_amd64.whl.metadata (5.6 kB)\n",
      "Requirement already satisfied: fastapi<1.0,>=0.115.2 in c:\\users\\huda\\python\\lib\\site-packages (from gradio) (0.115.12)\n",
      "Collecting ffmpy (from gradio)\n",
      "  Using cached ffmpy-0.6.1-py3-none-any.whl.metadata (2.9 kB)\n",
      "Collecting gradio-client==1.11.1 (from gradio)\n",
      "  Using cached gradio_client-1.11.1-py3-none-any.whl.metadata (7.1 kB)\n",
      "Collecting groovy~=0.1 (from gradio)\n",
      "  Using cached groovy-0.1.2-py3-none-any.whl.metadata (6.1 kB)\n",
      "Requirement already satisfied: httpx<1.0,>=0.24.1 in c:\\users\\huda\\python\\lib\\site-packages (from gradio) (0.27.0)\n",
      "Collecting huggingface-hub<1.0,>=0.33.5 (from gradio)\n",
      "  Using cached huggingface_hub-0.34.4-py3-none-any.whl.metadata (14 kB)\n",
      "Requirement already satisfied: jinja2<4.0 in c:\\users\\huda\\python\\lib\\site-packages (from gradio) (3.1.4)\n",
      "Requirement already satisfied: markupsafe<4.0,>=2.0 in c:\\users\\huda\\python\\lib\\site-packages (from gradio) (2.1.5)\n",
      "Requirement already satisfied: numpy<3.0,>=1.0 in c:\\users\\huda\\python\\lib\\site-packages (from gradio) (1.26.4)\n",
      "Requirement already satisfied: orjson~=3.0 in c:\\users\\huda\\python\\lib\\site-packages (from gradio) (3.10.0)\n",
      "Requirement already satisfied: packaging in c:\\users\\huda\\python\\lib\\site-packages (from gradio) (24.0)\n",
      "Requirement already satisfied: pandas<3.0,>=1.0 in c:\\users\\huda\\python\\lib\\site-packages (from gradio) (2.2.2)\n",
      "Requirement already satisfied: pillow<12.0,>=8.0 in c:\\users\\huda\\python\\lib\\site-packages (from gradio) (10.4.0)\n",
      "Requirement already satisfied: pydantic<2.12,>=2.0 in c:\\users\\huda\\python\\lib\\site-packages (from gradio) (2.6.3)\n",
      "Collecting pydub (from gradio)\n",
      "  Using cached pydub-0.25.1-py2.py3-none-any.whl.metadata (1.4 kB)\n",
      "Requirement already satisfied: python-multipart>=0.0.18 in c:\\users\\huda\\python\\lib\\site-packages (from gradio) (0.0.20)\n",
      "Requirement already satisfied: pyyaml<7.0,>=5.0 in c:\\users\\huda\\python\\lib\\site-packages (from gradio) (6.0.1)\n",
      "Collecting ruff>=0.9.3 (from gradio)\n",
      "  Downloading ruff-0.12.9-py3-none-win_amd64.whl.metadata (26 kB)\n",
      "Collecting safehttpx<0.2.0,>=0.1.6 (from gradio)\n",
      "  Using cached safehttpx-0.1.6-py3-none-any.whl.metadata (4.2 kB)\n",
      "Collecting semantic-version~=2.0 (from gradio)\n",
      "  Using cached semantic_version-2.10.0-py2.py3-none-any.whl.metadata (9.7 kB)\n",
      "Requirement already satisfied: starlette<1.0,>=0.40.0 in c:\\users\\huda\\python\\lib\\site-packages (from gradio) (0.46.2)\n",
      "Requirement already satisfied: tomlkit<0.14.0,>=0.12.0 in c:\\users\\huda\\python\\lib\\site-packages (from gradio) (0.12.4)\n",
      "Requirement already satisfied: typer<1.0,>=0.12 in c:\\users\\huda\\python\\lib\\site-packages (from gradio) (0.12.3)\n",
      "Requirement already satisfied: typing-extensions~=4.0 in c:\\users\\huda\\python\\lib\\site-packages (from gradio) (4.10.0)\n",
      "Requirement already satisfied: uvicorn>=0.14.0 in c:\\users\\huda\\python\\lib\\site-packages (from gradio) (0.34.2)\n",
      "Requirement already satisfied: fsspec in c:\\users\\huda\\python\\lib\\site-packages (from gradio-client==1.11.1->gradio) (2024.3.1)\n",
      "Collecting websockets<16.0,>=10.0 (from gradio-client==1.11.1->gradio)\n",
      "  Using cached websockets-15.0.1-cp311-cp311-win_amd64.whl.metadata (7.0 kB)\n",
      "Requirement already satisfied: idna>=2.8 in c:\\users\\huda\\python\\lib\\site-packages (from anyio<5.0,>=3.0->gradio) (3.6)\n",
      "Requirement already satisfied: sniffio>=1.1 in c:\\users\\huda\\python\\lib\\site-packages (from anyio<5.0,>=3.0->gradio) (1.3.1)\n",
      "Requirement already satisfied: certifi in c:\\users\\huda\\python\\lib\\site-packages (from httpx<1.0,>=0.24.1->gradio) (2024.2.2)\n",
      "Requirement already satisfied: httpcore==1.* in c:\\users\\huda\\python\\lib\\site-packages (from httpx<1.0,>=0.24.1->gradio) (1.0.4)\n",
      "Requirement already satisfied: h11<0.15,>=0.13 in c:\\users\\huda\\python\\lib\\site-packages (from httpcore==1.*->httpx<1.0,>=0.24.1->gradio) (0.14.0)\n",
      "Requirement already satisfied: filelock in c:\\users\\huda\\python\\lib\\site-packages (from huggingface-hub<1.0,>=0.33.5->gradio) (3.13.4)\n",
      "Requirement already satisfied: requests in c:\\users\\huda\\python\\lib\\site-packages (from huggingface-hub<1.0,>=0.33.5->gradio) (2.31.0)\n",
      "Requirement already satisfied: tqdm>=4.42.1 in c:\\users\\huda\\python\\lib\\site-packages (from huggingface-hub<1.0,>=0.33.5->gradio) (4.66.2)\n",
      "Requirement already satisfied: python-dateutil>=2.8.2 in c:\\users\\huda\\python\\lib\\site-packages (from pandas<3.0,>=1.0->gradio) (2.9.0.post0)\n",
      "Requirement already satisfied: pytz>=2020.1 in c:\\users\\huda\\python\\lib\\site-packages (from pandas<3.0,>=1.0->gradio) (2024.1)\n",
      "Requirement already satisfied: tzdata>=2022.7 in c:\\users\\huda\\python\\lib\\site-packages (from pandas<3.0,>=1.0->gradio) (2024.1)\n",
      "Requirement already satisfied: annotated-types>=0.4.0 in c:\\users\\huda\\python\\lib\\site-packages (from pydantic<2.12,>=2.0->gradio) (0.6.0)\n",
      "Requirement already satisfied: pydantic-core==2.16.3 in c:\\users\\huda\\python\\lib\\site-packages (from pydantic<2.12,>=2.0->gradio) (2.16.3)\n",
      "Requirement already satisfied: click>=8.0.0 in c:\\users\\huda\\python\\lib\\site-packages (from typer<1.0,>=0.12->gradio) (8.1.7)\n",
      "Requirement already satisfied: shellingham>=1.3.0 in c:\\users\\huda\\python\\lib\\site-packages (from typer<1.0,>=0.12->gradio) (1.5.4)\n",
      "Requirement already satisfied: rich>=10.11.0 in c:\\users\\huda\\python\\lib\\site-packages (from typer<1.0,>=0.12->gradio) (13.7.1)\n",
      "Requirement already satisfied: colorama in c:\\users\\huda\\python\\lib\\site-packages (from click>=8.0.0->typer<1.0,>=0.12->gradio) (0.4.6)\n",
      "Requirement already satisfied: six>=1.5 in c:\\users\\huda\\python\\lib\\site-packages (from python-dateutil>=2.8.2->pandas<3.0,>=1.0->gradio) (1.16.0)\n",
      "Requirement already satisfied: markdown-it-py>=2.2.0 in c:\\users\\huda\\python\\lib\\site-packages (from rich>=10.11.0->typer<1.0,>=0.12->gradio) (3.0.0)\n",
      "Requirement already satisfied: pygments<3.0.0,>=2.13.0 in c:\\users\\huda\\python\\lib\\site-packages (from rich>=10.11.0->typer<1.0,>=0.12->gradio) (2.17.2)\n",
      "Requirement already satisfied: charset-normalizer<4,>=2 in c:\\users\\huda\\python\\lib\\site-packages (from requests->huggingface-hub<1.0,>=0.33.5->gradio) (3.3.2)\n",
      "Requirement already satisfied: urllib3<3,>=1.21.1 in c:\\users\\huda\\python\\lib\\site-packages (from requests->huggingface-hub<1.0,>=0.33.5->gradio) (2.2.1)\n",
      "Requirement already satisfied: mdurl~=0.1 in c:\\users\\huda\\python\\lib\\site-packages (from markdown-it-py>=2.2.0->rich>=10.11.0->typer<1.0,>=0.12->gradio) (0.1.2)\n",
      "Using cached gradio-5.42.0-py3-none-any.whl (59.7 MB)\n",
      "Using cached gradio_client-1.11.1-py3-none-any.whl (324 kB)\n",
      "Using cached aiofiles-24.1.0-py3-none-any.whl (15 kB)\n",
      "Using cached Brotli-1.1.0-cp311-cp311-win_amd64.whl (357 kB)\n",
      "Using cached groovy-0.1.2-py3-none-any.whl (14 kB)\n",
      "Using cached huggingface_hub-0.34.4-py3-none-any.whl (561 kB)\n",
      "Downloading ruff-0.12.9-py3-none-win_amd64.whl (12.8 MB)\n",
      "   ---------------------------------------- 0.0/12.8 MB ? eta -:--:--\n",
      "   ---------------------------------------- 0.0/12.8 MB ? eta -:--:--\n",
      "   ------------- -------------------------- 4.2/12.8 MB 12.0 MB/s eta 0:00:01\n",
      "   ---------------------------------------  12.6/12.8 MB 22.5 MB/s eta 0:00:01\n",
      "   ---------------------------------------- 12.8/12.8 MB 20.1 MB/s eta 0:00:00\n",
      "Using cached safehttpx-0.1.6-py3-none-any.whl (8.7 kB)\n",
      "Using cached semantic_version-2.10.0-py2.py3-none-any.whl (15 kB)\n",
      "Using cached ffmpy-0.6.1-py3-none-any.whl (5.5 kB)\n",
      "Using cached pydub-0.25.1-py2.py3-none-any.whl (32 kB)\n",
      "Using cached websockets-15.0.1-cp311-cp311-win_amd64.whl (176 kB)\n",
      "Installing collected packages: pydub, brotli, websockets, semantic-version, ruff, groovy, ffmpy, aiofiles, huggingface-hub, safehttpx, gradio-client, gradio\n",
      "  Attempting uninstall: huggingface-hub\n",
      "    Found existing installation: huggingface-hub 0.23.0\n",
      "    Uninstalling huggingface-hub-0.23.0:\n",
      "      Successfully uninstalled huggingface-hub-0.23.0\n",
      "Successfully installed aiofiles-24.1.0 brotli-1.1.0 ffmpy-0.6.1 gradio-5.42.0 gradio-client-1.11.1 groovy-0.1.2 huggingface-hub-0.34.4 pydub-0.25.1 ruff-0.12.9 safehttpx-0.1.6 semantic-version-2.10.0 websockets-15.0.1\n"
     ]
    },
    {
     "name": "stderr",
     "output_type": "stream",
     "text": [
      "\n",
      "[notice] A new release of pip is available: 24.2 -> 25.2\n",
      "[notice] To update, run: python.exe -m pip install --upgrade pip\n"
     ]
    }
   ],
   "source": [
    "!pip install gradio\n"
   ]
  },
  {
   "cell_type": "code",
   "execution_count": null,
   "id": "a2ff9f6f",
   "metadata": {},
   "outputs": [
    {
     "name": "stdout",
     "output_type": "stream",
     "text": [
      "Collecting accelerate\n",
      "  Using cached accelerate-1.10.0-py3-none-any.whl.metadata (19 kB)\n",
      "Requirement already satisfied: numpy<3.0.0,>=1.17 in c:\\users\\huda\\python\\lib\\site-packages (from accelerate) (1.26.4)\n",
      "Requirement already satisfied: packaging>=20.0 in c:\\users\\huda\\python\\lib\\site-packages (from accelerate) (24.0)\n",
      "Requirement already satisfied: psutil in c:\\users\\huda\\python\\lib\\site-packages (from accelerate) (5.9.8)\n",
      "Requirement already satisfied: pyyaml in c:\\users\\huda\\python\\lib\\site-packages (from accelerate) (6.0.1)\n",
      "Requirement already satisfied: torch>=2.0.0 in c:\\users\\huda\\python\\lib\\site-packages (from accelerate) (2.6.0+cu124)\n",
      "Requirement already satisfied: huggingface_hub>=0.21.0 in c:\\users\\huda\\python\\lib\\site-packages (from accelerate) (0.34.4)\n",
      "Requirement already satisfied: safetensors>=0.4.3 in c:\\users\\huda\\python\\lib\\site-packages (from accelerate) (0.4.3)\n",
      "Requirement already satisfied: filelock in c:\\users\\huda\\python\\lib\\site-packages (from huggingface_hub>=0.21.0->accelerate) (3.13.4)\n",
      "Requirement already satisfied: fsspec>=2023.5.0 in c:\\users\\huda\\python\\lib\\site-packages (from huggingface_hub>=0.21.0->accelerate) (2024.3.1)\n",
      "Requirement already satisfied: requests in c:\\users\\huda\\python\\lib\\site-packages (from huggingface_hub>=0.21.0->accelerate) (2.31.0)\n",
      "Requirement already satisfied: tqdm>=4.42.1 in c:\\users\\huda\\python\\lib\\site-packages (from huggingface_hub>=0.21.0->accelerate) (4.66.2)\n",
      "Requirement already satisfied: typing-extensions>=3.7.4.3 in c:\\users\\huda\\python\\lib\\site-packages (from huggingface_hub>=0.21.0->accelerate) (4.10.0)\n",
      "Requirement already satisfied: networkx in c:\\users\\huda\\python\\lib\\site-packages (from torch>=2.0.0->accelerate) (3.3)\n",
      "Requirement already satisfied: jinja2 in c:\\users\\huda\\python\\lib\\site-packages (from torch>=2.0.0->accelerate) (3.1.4)\n",
      "Requirement already satisfied: sympy==1.13.1 in c:\\users\\huda\\python\\lib\\site-packages (from torch>=2.0.0->accelerate) (1.13.1)\n",
      "Requirement already satisfied: mpmath<1.4,>=1.1.0 in c:\\users\\huda\\python\\lib\\site-packages (from sympy==1.13.1->torch>=2.0.0->accelerate) (1.3.0)\n",
      "Requirement already satisfied: colorama in c:\\users\\huda\\python\\lib\\site-packages (from tqdm>=4.42.1->huggingface_hub>=0.21.0->accelerate) (0.4.6)\n",
      "Requirement already satisfied: MarkupSafe>=2.0 in c:\\users\\huda\\python\\lib\\site-packages (from jinja2->torch>=2.0.0->accelerate) (2.1.5)\n",
      "Requirement already satisfied: charset-normalizer<4,>=2 in c:\\users\\huda\\python\\lib\\site-packages (from requests->huggingface_hub>=0.21.0->accelerate) (3.3.2)\n",
      "Requirement already satisfied: idna<4,>=2.5 in c:\\users\\huda\\python\\lib\\site-packages (from requests->huggingface_hub>=0.21.0->accelerate) (3.6)\n",
      "Requirement already satisfied: urllib3<3,>=1.21.1 in c:\\users\\huda\\python\\lib\\site-packages (from requests->huggingface_hub>=0.21.0->accelerate) (2.2.1)\n",
      "Requirement already satisfied: certifi>=2017.4.17 in c:\\users\\huda\\python\\lib\\site-packages (from requests->huggingface_hub>=0.21.0->accelerate) (2024.2.2)\n",
      "Using cached accelerate-1.10.0-py3-none-any.whl (374 kB)\n",
      "Installing collected packages: accelerate\n",
      "Successfully installed accelerate-1.10.0\n"
     ]
    },
    {
     "name": "stderr",
     "output_type": "stream",
     "text": [
      "\n",
      "[notice] A new release of pip is available: 24.2 -> 25.2\n",
      "[notice] To update, run: python.exe -m pip install --upgrade pip\n"
     ]
    }
   ],
   "source": [
    "!pip install accelerate"
   ]
  },
  {
   "cell_type": "code",
   "execution_count": null,
   "id": "7f1324cf",
   "metadata": {},
   "outputs": [
    {
     "name": "stdout",
     "output_type": "stream",
     "text": [
      "Note: you may need to restart the kernel to use updated packages.\n"
     ]
    },
    {
     "name": "stderr",
     "output_type": "stream",
     "text": [
      "  WARNING: Failed to remove contents in a temporary directory 'C:\\Users\\Huda\\python\\Lib\\site-packages\\~aml'.\n",
      "  You can safely remove it manually.\n",
      "  WARNING: Failed to remove contents in a temporary directory 'C:\\Users\\Huda\\python\\Lib\\site-packages\\~ydantic_core'.\n",
      "  You can safely remove it manually.\n",
      "\n",
      "[notice] A new release of pip is available: 24.2 -> 25.2\n",
      "[notice] To update, run: python.exe -m pip install --upgrade pip\n"
     ]
    },
    {
     "name": "stdout",
     "output_type": "stream",
     "text": [
      "Collecting mistralai\n",
      "  Downloading mistralai-1.9.6-py3-none-any.whl.metadata (37 kB)\n",
      "Collecting eval-type-backport>=0.2.0 (from mistralai)\n",
      "  Using cached eval_type_backport-0.2.2-py3-none-any.whl.metadata (2.2 kB)\n",
      "Collecting httpx>=0.28.1 (from mistralai)\n",
      "  Using cached httpx-0.28.1-py3-none-any.whl.metadata (7.1 kB)\n",
      "Collecting invoke<3.0.0,>=2.2.0 (from mistralai)\n",
      "  Downloading invoke-2.2.0-py3-none-any.whl.metadata (3.3 kB)\n",
      "Collecting pydantic>=2.10.3 (from mistralai)\n",
      "  Using cached pydantic-2.11.7-py3-none-any.whl.metadata (67 kB)\n",
      "Requirement already satisfied: python-dateutil>=2.8.2 in c:\\users\\huda\\python\\lib\\site-packages (from mistralai) (2.9.0.post0)\n",
      "Collecting pyyaml<7.0.0,>=6.0.2 (from mistralai)\n",
      "  Using cached PyYAML-6.0.2-cp311-cp311-win_amd64.whl.metadata (2.1 kB)\n",
      "Collecting typing-inspection>=0.4.0 (from mistralai)\n",
      "  Using cached typing_inspection-0.4.1-py3-none-any.whl.metadata (2.6 kB)\n",
      "Requirement already satisfied: anyio in c:\\users\\huda\\python\\lib\\site-packages (from httpx>=0.28.1->mistralai) (4.3.0)\n",
      "Requirement already satisfied: certifi in c:\\users\\huda\\python\\lib\\site-packages (from httpx>=0.28.1->mistralai) (2024.2.2)\n",
      "Requirement already satisfied: httpcore==1.* in c:\\users\\huda\\python\\lib\\site-packages (from httpx>=0.28.1->mistralai) (1.0.4)\n",
      "Requirement already satisfied: idna in c:\\users\\huda\\python\\lib\\site-packages (from httpx>=0.28.1->mistralai) (3.6)\n",
      "Requirement already satisfied: h11<0.15,>=0.13 in c:\\users\\huda\\python\\lib\\site-packages (from httpcore==1.*->httpx>=0.28.1->mistralai) (0.14.0)\n",
      "Requirement already satisfied: annotated-types>=0.6.0 in c:\\users\\huda\\python\\lib\\site-packages (from pydantic>=2.10.3->mistralai) (0.6.0)\n",
      "Collecting pydantic-core==2.33.2 (from pydantic>=2.10.3->mistralai)\n",
      "  Using cached pydantic_core-2.33.2-cp311-cp311-win_amd64.whl.metadata (6.9 kB)\n",
      "Collecting typing-extensions>=4.12.2 (from pydantic>=2.10.3->mistralai)\n",
      "  Using cached typing_extensions-4.14.1-py3-none-any.whl.metadata (3.0 kB)\n",
      "Requirement already satisfied: six>=1.5 in c:\\users\\huda\\python\\lib\\site-packages (from python-dateutil>=2.8.2->mistralai) (1.16.0)\n",
      "Requirement already satisfied: sniffio>=1.1 in c:\\users\\huda\\python\\lib\\site-packages (from anyio->httpx>=0.28.1->mistralai) (1.3.1)\n",
      "Downloading mistralai-1.9.6-py3-none-any.whl (425 kB)\n",
      "Using cached eval_type_backport-0.2.2-py3-none-any.whl (5.8 kB)\n",
      "Using cached httpx-0.28.1-py3-none-any.whl (73 kB)\n",
      "Downloading invoke-2.2.0-py3-none-any.whl (160 kB)\n",
      "Using cached pydantic-2.11.7-py3-none-any.whl (444 kB)\n",
      "Using cached pydantic_core-2.33.2-cp311-cp311-win_amd64.whl (2.0 MB)\n",
      "Using cached PyYAML-6.0.2-cp311-cp311-win_amd64.whl (161 kB)\n",
      "Using cached typing_inspection-0.4.1-py3-none-any.whl (14 kB)\n",
      "Using cached typing_extensions-4.14.1-py3-none-any.whl (43 kB)\n",
      "Installing collected packages: typing-extensions, pyyaml, invoke, eval-type-backport, typing-inspection, pydantic-core, httpx, pydantic, mistralai\n",
      "  Attempting uninstall: typing-extensions\n",
      "    Found existing installation: typing_extensions 4.10.0\n",
      "    Uninstalling typing_extensions-4.10.0:\n",
      "      Successfully uninstalled typing_extensions-4.10.0\n",
      "  Attempting uninstall: pyyaml\n",
      "    Found existing installation: PyYAML 6.0.1\n",
      "    Uninstalling PyYAML-6.0.1:\n",
      "      Successfully uninstalled PyYAML-6.0.1\n",
      "  Attempting uninstall: pydantic-core\n",
      "    Found existing installation: pydantic_core 2.16.3\n",
      "    Uninstalling pydantic_core-2.16.3:\n",
      "      Successfully uninstalled pydantic_core-2.16.3\n",
      "  Attempting uninstall: httpx\n",
      "    Found existing installation: httpx 0.27.0\n",
      "    Uninstalling httpx-0.27.0:\n",
      "      Successfully uninstalled httpx-0.27.0\n",
      "  Attempting uninstall: pydantic\n",
      "    Found existing installation: pydantic 2.6.3\n",
      "    Uninstalling pydantic-2.6.3:\n",
      "      Successfully uninstalled pydantic-2.6.3\n",
      "Successfully installed eval-type-backport-0.2.2 httpx-0.28.1 invoke-2.2.0 mistralai-1.9.6 pydantic-2.11.7 pydantic-core-2.33.2 pyyaml-6.0.2 typing-extensions-4.14.1 typing-inspection-0.4.1\n"
     ]
    }
   ],
   "source": [
    "pip install mistralai\n"
   ]
  },
  {
   "cell_type": "code",
   "execution_count": 22,
   "id": "65fc486e",
   "metadata": {},
   "outputs": [],
   "source": [
    "import pandas as pd\n",
    "import gradio as gr\n",
    "import torch\n",
    "import accelerate\n",
    "from transformers import AutoTokenizer, AutoModelForCausalLM\n",
    "import os \n",
    "from mistralai import Mistral\n"
   ]
  },
  {
   "cell_type": "code",
   "execution_count": 23,
   "id": "11031bec",
   "metadata": {},
   "outputs": [
    {
     "name": "stdout",
     "output_type": "stream",
     "text": [
      "Structured query: {'company': None, 'amount_min': 5000, 'amount_max': None, 'year_min': None, 'year_max': None, 'keywords': ''}\n",
      "Structured query: {'company': None, 'amount_min': 5000, 'amount_max': None, 'year_min': None, 'year_max': None, 'keywords': ''}\n",
      "Structured query: {'company': None, 'amount_min': None, 'amount_max': None, 'year_min': None, 'year_max': None, 'keywords': ''}\n",
      "Structured query: {'company': None, 'amount_min': None, 'amount_max': None, 'year_min': None, 'year_max': None, 'keywords': ''}\n",
      "Structured query: {'company': 'الشركة', 'amount_min': None, 'amount_max': None, 'year_min': None, 'year_max': None, 'keywords': ''}\n",
      "Structured query: {'company': None, 'amount_min': None, 'amount_max': None, 'year_min': None, 'year_max': None, 'keywords': 'Employee Handbook'}\n",
      "Structured query: {'company': None, 'amount_min': None, 'amount_max': None, 'year_min': None, 'year_max': None, 'keywords': 'Employee Handbook'}\n",
      "Structured query: {'company': None, 'amount_min': None, 'amount_max': None, 'year_min': None, 'year_max': None, 'keywords': 'Employee Handbook'}\n"
     ]
    }
   ],
   "source": [
    "USE_MISTRAL = True\n",
    "client = Mistral(api_key=\"DNN3lk0n8cBucYBe0s38s6gCIw4X6zmP\")"
   ]
  },
  {
   "cell_type": "code",
   "execution_count": null,
   "id": "49dc126f",
   "metadata": {},
   "outputs": [],
   "source": [
    "df = pd.DataFrame([\n",
    "    {\"company\": \"X\", \"amount\": 1200, \"date\": \"2023-05-10\", \"details\": \"Contract for marketing\"},\n",
    "    {\"company\": \"Y\", \"amount\": 500, \"date\": \"2022-11-20\", \"details\": \"Contract for supply\"},\n",
    "    {\"company\": \"X\", \"amount\": 800, \"date\": \"2023-01-15\", \"details\": \"Contract for consulting\"},\n",
    "    {\"company\": \"Z\", \"amount\": 2500, \"date\": \"2023-06-01\", \"details\": \"IT infrastructure project\"},\n",
    "    {\"company\": \"A\", \"amount\": 1500, \"date\": \"2021-12-30\", \"details\": \"Office renovation contract\"},\n",
    "    {\"company\": \"B\", \"amount\": 3000, \"date\": \"2023-03-22\", \"details\": \"Marketing campaign\"},\n",
    "    {\"company\": \"C\", \"amount\": 750, \"date\": \"2022-08-10\", \"details\": \"Supply of furniture\"},\n",
    "    {\"company\": \"X\", \"amount\": 2000, \"date\": \"2023-07-15\", \"details\": \"Consulting project\"},\n",
    "    {\"company\": \"Y\", \"amount\": 1800, \"date\": \"2023-01-05\", \"details\": \"Software license\"},\n",
    "    {\"company\": \"Z\", \"amount\": 400, \"date\": \"2022-05-17\", \"details\": \"Maintenance contract\"},\n",
    "    {\"company\": \"A\", \"amount\": 2200, \"date\": \"2023-04-10\", \"details\": \"Training program\"},\n",
    "    {\"company\": \"B\", \"amount\": 950, \"date\": \"2021-11-01\", \"details\": \"Marketing research\"},\n",
    "    {\"company\": \"C\", \"amount\": 1300, \"date\": \"2023-02-25\", \"details\": \"Office furniture supply\"},\n",
    "    {\"company\": \"X\", \"amount\": 5000, \"date\": \"2023-08-01\", \"details\": \"Major consulting project\"},\n",
    "    {\"company\": \"Y\", \"amount\": 1250, \"date\": \"2022-09-30\", \"details\": \"Software maintenance\"},\n",
    "])\n"
   ]
  },
  {
   "cell_type": "code",
   "execution_count": 28,
   "id": "d9db4cfe",
   "metadata": {},
   "outputs": [],
   "source": [
    "file_path = \"document_metadata.csv\"\n",
    "\n",
    "df = pd.read_csv(file_path)"
   ]
  },
  {
   "cell_type": "code",
   "execution_count": null,
   "id": "92a20395",
   "metadata": {},
   "outputs": [],
   "source": [
    "# from transformers import AutoTokenizer, AutoModelForCausalLM, AutoModelForSeq2SeqLM\n",
    "\n",
    "# model_path = \"./bloomz-1b1-local\"\n",
    "\n",
    "# tokenizer = AutoTokenizer.from_pretrained(\"google/flan-t5-base\")\n",
    "# model = AutoModelForSeq2SeqLM.from_pretrained(\"google/flan-t5-base\")\n",
    "# device = torch.device(\"cpu\")\n",
    "\n"
   ]
  },
  {
   "cell_type": "code",
   "execution_count": null,
   "id": "58c98f43",
   "metadata": {},
   "outputs": [],
   "source": [
    "# save_path = \"./flan-t5-local\"\n",
    "# tokenizer.save_pretrained(save_path)\n",
    "# model.save_pretrained(save_path)"
   ]
  },
  {
   "cell_type": "code",
   "execution_count": 29,
   "id": "33eaebc1",
   "metadata": {},
   "outputs": [],
   "source": [
    "import re, json\n",
    "def clean_json_string(s: str) -> str:\n",
    "    s = s.strip()\n",
    "\n",
    "    if not s.startswith(\"{\") and \"company\" in s:\n",
    "        s = \"{\" + s\n",
    "    if not s.endswith(\"}\"):\n",
    "        s = s + \"}\"\n",
    "\n",
    "    s = re.sub(r\",\\s*}\", \"}\", s)\n",
    "    s = re.sub(r\"\\\"\\s*}\", \"}\", s)\n",
    "    return s\n"
   ]
  },
  {
   "cell_type": "code",
   "execution_count": 35,
   "id": "8e66d237",
   "metadata": {},
   "outputs": [],
   "source": [
    "import json\n",
    "from mistralai import Mistral\n",
    "\n",
    "USE_MISTRAL = True \n",
    "\n",
    "if USE_MISTRAL:\n",
    "    client = Mistral(api_key=\"DNN3lk0n8cBucYBe0s38s6gCIw4X6zmP\")\n",
    "\n",
    "\n",
    "def query_to_filters(query: str, max_new_tokens: int = 150):\n",
    "    \"\"\"\n",
    "    Convert English or Arabic query about contracts into a structured filter dict:\n",
    "    { company, amount_min, amount_max, year_min, year_max, keywords }\n",
    "    \"\"\"\n",
    "\n",
    "    prompt = f\"\"\"\n",
    "Convert this query about documents into a JSON object with keys:\n",
    "author, category, year_min, year_max, tags, keywords.\n",
    "Use null if not specified. Respond ONLY with valid JSON.\n",
    "- The 'keywords' field should always be in English (the language of the CSV),\n",
    "even if the input query is in Arabic.\n",
    "\n",
    "English examples:\n",
    "\"Reports by John Smith\" => {{\"author\":\"John Smith\",\"category\":\"Report\",\"year_min\":null,\"year_max\":null,\"tags\":null,\"keywords\":null}}\n",
    "\"Documents about financial performance in 2023\" => {{\"author\":null,\"category\":null,\"year_min\":2023,\"year_max\":2023,\"tags\":null,\"keywords\":\"financial performance\"}}\n",
    "\n",
    "Arabic examples:\n",
    "\"تقارير من جون سميث\" => {{\"author\":\"John Smith\",\"category\":\"Report\",\"year_min\":null,\"year_max\":null,\"tags\":null,\"keywords\":null}}\n",
    "\"مستندات عن الأداء المالي في ٢٠٢٣\" => {{\"author\":null,\"category\":null,\"year_min\":2023,\"year_max\":2023,\"tags\":null,\"keywords\":\"financial performance\"}}\n",
    "Query: \"{query}\"\n",
    "JSON:\n",
    "\"\"\"\n",
    "\n",
    "    if USE_MISTRAL:\n",
    "        response = client.chat.complete(\n",
    "            model=\"mistral-small-latest\",  \n",
    "            messages=[{\"role\": \"user\", \"content\": prompt}],\n",
    "            temperature=0,\n",
    "        )\n",
    "        raw_output = response.choices[0].message.content\n",
    "\n",
    "    try:\n",
    "        start = raw_output.find(\"{\")\n",
    "        end = raw_output.rfind(\"}\") + 1\n",
    "        json_str = raw_output[start:end]\n",
    "        filters = json.loads(json_str)\n",
    "        \n",
    "        for key in [ \"document_id\",\"title\",\"author\",\"created_date\",\"last_modified\",\"category\",\"tags\",\"content\"]:\n",
    "            if key not in filters:\n",
    "                filters[key] = None\n",
    "\n",
    "    except Exception as e:\n",
    "        print(\"!!! Fallback triggered: returning empty filters\")\n",
    "        print(\"Raw model response:\", raw_output)\n",
    "        filters = {\n",
    "            \"author\": None,\n",
    "            \"category\": None,\n",
    "            \"year_min\": None,\n",
    "            \"year_max\": None,\n",
    "            \"tags\": None,\n",
    "            \"keywords\": None\n",
    "        }\n",
    "\n",
    "    return filters\n"
   ]
  },
  {
   "cell_type": "code",
   "execution_count": 13,
   "id": "565fdb79",
   "metadata": {},
   "outputs": [
    {
     "name": "stdout",
     "output_type": "stream",
     "text": [
      "Collecting arabic_reshaper\n",
      "  Using cached arabic_reshaper-3.0.0-py3-none-any.whl.metadata (12 kB)\n",
      "Using cached arabic_reshaper-3.0.0-py3-none-any.whl (20 kB)\n",
      "Installing collected packages: arabic_reshaper\n",
      "Successfully installed arabic_reshaper-3.0.0\n"
     ]
    },
    {
     "name": "stderr",
     "output_type": "stream",
     "text": [
      "\n",
      "[notice] A new release of pip is available: 24.2 -> 25.2\n",
      "[notice] To update, run: python.exe -m pip install --upgrade pip\n"
     ]
    }
   ],
   "source": [
    "!pip install arabic_reshaper\n"
   ]
  },
  {
   "cell_type": "code",
   "execution_count": 15,
   "id": "52079455",
   "metadata": {},
   "outputs": [
    {
     "name": "stdout",
     "output_type": "stream",
     "text": [
      "Collecting python-bidi\n",
      "  Using cached python_bidi-0.6.6-cp311-cp311-win_amd64.whl.metadata (5.0 kB)\n",
      "Using cached python_bidi-0.6.6-cp311-cp311-win_amd64.whl (160 kB)\n",
      "Installing collected packages: python-bidi\n",
      "Successfully installed python-bidi-0.6.6\n"
     ]
    },
    {
     "name": "stderr",
     "output_type": "stream",
     "text": [
      "\n",
      "[notice] A new release of pip is available: 24.2 -> 25.2\n",
      "[notice] To update, run: python.exe -m pip install --upgrade pip\n"
     ]
    }
   ],
   "source": [
    "!pip install python-bidi\n"
   ]
  },
  {
   "cell_type": "code",
   "execution_count": 36,
   "id": "3184def3",
   "metadata": {},
   "outputs": [],
   "source": [
    "import arabic_reshaper\n",
    "from bidi.algorithm import get_display\n",
    "import re\n",
    "\n",
    "def normalize_arabic(text):\n",
    "    if not isinstance(text, str):\n",
    "        return \"\"\n",
    "    text = text.replace(\"أ\", \"ا\").replace(\"إ\", \"ا\").replace(\"آ\", \"ا\").replace(\"ى\", \"ي\").strip()\n",
    "    reshaped_text = arabic_reshaper.reshape(text)\n",
    "    bidi_text = get_display(reshaped_text)\n",
    "    return bidi_text\n"
   ]
  },
  {
   "cell_type": "code",
   "execution_count": 37,
   "id": "6079ed89",
   "metadata": {},
   "outputs": [],
   "source": [
    "def search_csv(query):\n",
    "    filters = query_to_filters(query)\n",
    "    print(\"Structured query:\", filters)\n",
    "\n",
    "    results = df.copy()\n",
    "\n",
    "    if filters.get(\"author\"):\n",
    "        results = results[results[\"author\"].str.contains(filters[\"author\"], case=False, na=False)]\n",
    "    if filters.get(\"category\"):\n",
    "        results = results[results[\"category\"].str.contains(filters[\"category\"], case=False, na=False)]\n",
    "    if filters.get(\"year_min\"):\n",
    "        results = results[pd.to_datetime(results[\"created_date\"]).dt.year >= filters[\"year_min\"]]\n",
    "    if filters.get(\"year_max\"):\n",
    "        results = results[pd.to_datetime(results[\"created_date\"]).dt.year <= filters[\"year_max\"]]\n",
    "    if filters.get(\"tags\"):\n",
    "        tag_pattern = \"|\".join(filters[\"tags\"])\n",
    "        results = results[results[\"tags\"].str.contains(tag_pattern, case=False, na=False)]\n",
    "    if filters.get(\"keywords\"):\n",
    "        keyword_pattern = normalize_arabic(filters[\"keywords\"])\n",
    "        results[\"content_normalized\"] = results[\"content\"].apply(normalize_arabic)\n",
    "        results = results[results[\"content_normalized\"].str.contains(keyword_pattern, case=False, regex=True)]\n",
    "\n",
    "    return results\n"
   ]
  },
  {
   "cell_type": "code",
   "execution_count": null,
   "id": "42dc5b17",
   "metadata": {},
   "outputs": [
    {
     "name": "stdout",
     "output_type": "stream",
     "text": [
      "* Running on local URL:  http://127.0.0.1:7864\n",
      "* To create a public link, set `share=True` in `launch()`.\n"
     ]
    },
    {
     "data": {
      "text/html": [
       "<div><iframe src=\"http://127.0.0.1:7864/\" width=\"100%\" height=\"500\" allow=\"autoplay; camera; microphone; clipboard-read; clipboard-write;\" frameborder=\"0\" allowfullscreen></iframe></div>"
      ],
      "text/plain": [
       "<IPython.core.display.HTML object>"
      ]
     },
     "metadata": {},
     "output_type": "display_data"
    },
    {
     "data": {
      "text/plain": []
     },
     "execution_count": 38,
     "metadata": {},
     "output_type": "execute_result"
    },
    {
     "name": "stdout",
     "output_type": "stream",
     "text": [
      "Structured query: {'author': None, 'category': None, 'year_min': None, 'year_max': None, 'tags': None, 'keywords': 'Employee Handbook', 'document_id': None, 'title': None, 'created_date': None, 'last_modified': None, 'content': None}\n",
      "Structured query: {'author': None, 'category': None, 'year_min': None, 'year_max': None, 'tags': 'Analytics Team', 'keywords': None, 'document_id': None, 'title': None, 'created_date': None, 'last_modified': None, 'content': None}\n",
      "Structured query: {'author': None, 'category': None, 'year_min': None, 'year_max': None, 'tags': None, 'keywords': 'Research Team', 'document_id': None, 'title': None, 'created_date': None, 'last_modified': None, 'content': None}\n",
      "Structured query: {'author': None, 'category': None, 'year_min': None, 'year_max': None, 'tags': None, 'keywords': 'Research Team', 'document_id': None, 'title': None, 'created_date': None, 'last_modified': None, 'content': None}\n",
      "Structured query: {'author': None, 'category': None, 'year_min': None, 'year_max': None, 'tags': None, 'keywords': 'IT Security', 'document_id': None, 'title': None, 'created_date': None, 'last_modified': None, 'content': None}\n",
      "Structured query: {'author': None, 'category': None, 'year_min': None, 'year_max': None, 'tags': None, 'keywords': 'research', 'document_id': None, 'title': None, 'created_date': None, 'last_modified': None, 'content': None}\n",
      "Structured query: {'author': None, 'category': None, 'year_min': None, 'year_max': None, 'tags': None, 'keywords': 'AI', 'document_id': None, 'title': None, 'created_date': None, 'last_modified': None, 'content': None}\n",
      "Structured query: {'author': None, 'category': None, 'year_min': None, 'year_max': None, 'tags': None, 'keywords': 'IT', 'document_id': None, 'title': None, 'created_date': None, 'last_modified': None, 'content': None}\n"
     ]
    }
   ],
   "source": [
    "iface = gr.Interface(\n",
    "    fn=search_csv,\n",
    "    inputs=gr.Textbox(label=\"Enter your Arabic query\"),\n",
    "    outputs=gr.Dataframe(label=\"Results\"),\n",
    "    title=\"Arabic Contract Search\",\n",
    "    description=\"Type any Arabic query about contracts. The model will understand and filter the CSV.\"\n",
    ")\n",
    "\n",
    "iface.launch()"
   ]
  },
  {
   "cell_type": "code",
   "execution_count": null,
   "id": "e10289c5",
   "metadata": {},
   "outputs": [],
   "source": []
  }
 ],
 "metadata": {
  "kernelspec": {
   "display_name": "Python 3",
   "language": "python",
   "name": "python3"
  },
  "language_info": {
   "codemirror_mode": {
    "name": "ipython",
    "version": 3
   },
   "file_extension": ".py",
   "mimetype": "text/x-python",
   "name": "python",
   "nbconvert_exporter": "python",
   "pygments_lexer": "ipython3",
   "version": "3.11.5"
  }
 },
 "nbformat": 4,
 "nbformat_minor": 5
}
